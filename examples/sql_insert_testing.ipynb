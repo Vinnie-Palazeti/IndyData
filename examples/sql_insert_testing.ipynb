{
 "cells": [
  {
   "cell_type": "code",
   "execution_count": 54,
   "id": "7b3772ec-b9ae-4d82-8766-75faace07ff6",
   "metadata": {},
   "outputs": [
    {
     "name": "stdout",
     "output_type": "stream",
     "text": [
      "The autoreload extension is already loaded. To reload it, use:\n",
      "  %reload_ext autoreload\n"
     ]
    }
   ],
   "source": [
    "%load_ext autoreload\n",
    "%autoreload 2"
   ]
  },
  {
   "cell_type": "code",
   "execution_count": 55,
   "id": "miniature-delight",
   "metadata": {},
   "outputs": [],
   "source": [
    "import pandas as pd\n",
    "import numpy as np\n",
    "import psycopg2\n",
    "import psycopg2.extras as extras\n",
    "from getpass import getpass"
   ]
  },
  {
   "cell_type": "code",
   "execution_count": 56,
   "id": "opened-december",
   "metadata": {},
   "outputs": [],
   "source": [
    "from IndyData.ACS.fns import get_ACS\n",
    "from IndyData.ACS.variables import population_variables"
   ]
  },
  {
   "cell_type": "code",
   "execution_count": 57,
   "id": "c587969e-59c7-4c21-b7fa-717e83433a8e",
   "metadata": {},
   "outputs": [],
   "source": [
    "def create_acs_population_table(con, names, table_name='acs_population'):\n",
    "    \n",
    "    cur = conn.cursor()\n",
    "    columns = [i + ' integer' for i in names]\n",
    "    columns = ', '.join(columns)\n",
    "    query  = f'CREATE TABLE {table_name} (GEOID BIGINT, county_name varchar, tract_name varchar, year integer, CONSTRAINT pk_GEOID_YEAR PRIMARY KEY (GEOID,year), %s);' % columns\n",
    "    \n",
    "    try:\n",
    "        cur.execute(query)\n",
    "    except Exception as e:\n",
    "        print(e)\n",
    "        print(\"Error in creating ACS Population Table\")\n",
    "\n",
    "    conn.commit() \n",
    "    conn.close()\n",
    "    cur.close()\n",
    "    print(f'Successfully created table: {table_name}')\n",
    "    "
   ]
  },
  {
   "cell_type": "markdown",
   "id": "7a882bd5-b1dd-4346-88f8-cf62046cddef",
   "metadata": {},
   "source": [
    "# Create ACS Population Table"
   ]
  },
  {
   "cell_type": "code",
   "execution_count": 58,
   "id": "a58b954b-8cd3-4415-8717-39c2e3bb96e9",
   "metadata": {},
   "outputs": [],
   "source": [
    "names = [i for i in population_variables.keys()]"
   ]
  },
  {
   "cell_type": "code",
   "execution_count": 59,
   "id": "d50ca743-ed50-41fc-8da8-13c4ea5714e9",
   "metadata": {},
   "outputs": [
    {
     "name": "stdin",
     "output_type": "stream",
     "text": [
      " ········\n"
     ]
    },
    {
     "name": "stdout",
     "output_type": "stream",
     "text": [
      "Successfully created table: acs_population\n"
     ]
    }
   ],
   "source": [
    "try:\n",
    "    conn = psycopg2.connect(\n",
    "        database = \"indydata_testing\", \n",
    "        user = \"vinniepalazeti\", \n",
    "        password = getpass(), \n",
    "        host = \"localhost\", \n",
    "        port = \"5432\")\n",
    "\n",
    "except:\n",
    "    print(\"No connection to Database\") \n",
    "    \n",
    "create_acs_population_table(conn, names)"
   ]
  },
  {
   "cell_type": "markdown",
   "id": "ec8aa45e-89f0-42a0-8392-dec21b85cdf8",
   "metadata": {},
   "source": [
    "# Pull ACS Data"
   ]
  },
  {
   "cell_type": "code",
   "execution_count": 33,
   "id": "34168d13-71e2-4118-88bf-967bc43f131f",
   "metadata": {},
   "outputs": [],
   "source": [
    "df_list = []\n",
    "for year in range(2010,2020):\n",
    "\n",
    "    acs_data = get_ACS(\n",
    "        population_variables, \n",
    "        year=year\n",
    "    )\n",
    "    df_list.append(acs_data)\n",
    "    \n",
    "acs_data = pd.concat(df_list)"
   ]
  },
  {
   "cell_type": "code",
   "execution_count": 34,
   "id": "521a5a2b-b52d-41e4-aaf8-55e4243f7bfd",
   "metadata": {},
   "outputs": [],
   "source": [
    "acs_data = acs_data.reset_index()"
   ]
  },
  {
   "cell_type": "code",
   "execution_count": 62,
   "id": "fac62d16-ccbd-44de-aba0-bb71e913042c",
   "metadata": {},
   "outputs": [
    {
     "data": {
      "text/html": [
       "<div>\n",
       "<style scoped>\n",
       "    .dataframe tbody tr th:only-of-type {\n",
       "        vertical-align: middle;\n",
       "    }\n",
       "\n",
       "    .dataframe tbody tr th {\n",
       "        vertical-align: top;\n",
       "    }\n",
       "\n",
       "    .dataframe thead th {\n",
       "        text-align: right;\n",
       "    }\n",
       "</style>\n",
       "<table border=\"1\" class=\"dataframe\">\n",
       "  <thead>\n",
       "    <tr style=\"text-align: right;\">\n",
       "      <th></th>\n",
       "      <th>GEOID</th>\n",
       "      <th>Population_Total</th>\n",
       "      <th>Population_White</th>\n",
       "      <th>Population_Black</th>\n",
       "      <th>Population_Arab</th>\n",
       "      <th>Population_Asian</th>\n",
       "      <th>Population_Hispanic</th>\n",
       "      <th>Population_American_Indiana_and_Alaska_Native</th>\n",
       "      <th>Population_Hawaiian_and_Pacific_Islander</th>\n",
       "      <th>Population_Non_Hispanic</th>\n",
       "      <th>...</th>\n",
       "      <th>Population_Female_62_64</th>\n",
       "      <th>Population_Female_65_66</th>\n",
       "      <th>Population_Female_67_69</th>\n",
       "      <th>Population_Female_70_74</th>\n",
       "      <th>Population_Female_75_79</th>\n",
       "      <th>Population_Female_80_84</th>\n",
       "      <th>Population_Female_85_plus</th>\n",
       "      <th>tract_name</th>\n",
       "      <th>county_name</th>\n",
       "      <th>year</th>\n",
       "    </tr>\n",
       "  </thead>\n",
       "  <tbody>\n",
       "    <tr>\n",
       "      <th>0</th>\n",
       "      <td>18001030100</td>\n",
       "      <td>4617</td>\n",
       "      <td>4415</td>\n",
       "      <td>49</td>\n",
       "      <td>0</td>\n",
       "      <td>12</td>\n",
       "      <td>177</td>\n",
       "      <td>0</td>\n",
       "      <td>0</td>\n",
       "      <td>4440</td>\n",
       "      <td>...</td>\n",
       "      <td>70</td>\n",
       "      <td>46</td>\n",
       "      <td>43</td>\n",
       "      <td>77</td>\n",
       "      <td>39</td>\n",
       "      <td>79</td>\n",
       "      <td>34</td>\n",
       "      <td>Census Tract 301</td>\n",
       "      <td>Adams County</td>\n",
       "      <td>2010</td>\n",
       "    </tr>\n",
       "    <tr>\n",
       "      <th>1</th>\n",
       "      <td>18001030200</td>\n",
       "      <td>4972</td>\n",
       "      <td>4676</td>\n",
       "      <td>11</td>\n",
       "      <td>0</td>\n",
       "      <td>9</td>\n",
       "      <td>453</td>\n",
       "      <td>60</td>\n",
       "      <td>0</td>\n",
       "      <td>4519</td>\n",
       "      <td>...</td>\n",
       "      <td>76</td>\n",
       "      <td>76</td>\n",
       "      <td>144</td>\n",
       "      <td>47</td>\n",
       "      <td>80</td>\n",
       "      <td>83</td>\n",
       "      <td>35</td>\n",
       "      <td>Census Tract 302</td>\n",
       "      <td>Adams County</td>\n",
       "      <td>2010</td>\n",
       "    </tr>\n",
       "    <tr>\n",
       "      <th>2</th>\n",
       "      <td>18001030300</td>\n",
       "      <td>5752</td>\n",
       "      <td>5454</td>\n",
       "      <td>0</td>\n",
       "      <td>0</td>\n",
       "      <td>0</td>\n",
       "      <td>559</td>\n",
       "      <td>0</td>\n",
       "      <td>0</td>\n",
       "      <td>5193</td>\n",
       "      <td>...</td>\n",
       "      <td>45</td>\n",
       "      <td>0</td>\n",
       "      <td>21</td>\n",
       "      <td>153</td>\n",
       "      <td>92</td>\n",
       "      <td>161</td>\n",
       "      <td>136</td>\n",
       "      <td>Census Tract 303</td>\n",
       "      <td>Adams County</td>\n",
       "      <td>2010</td>\n",
       "    </tr>\n",
       "    <tr>\n",
       "      <th>3</th>\n",
       "      <td>18001030400</td>\n",
       "      <td>3261</td>\n",
       "      <td>3211</td>\n",
       "      <td>9</td>\n",
       "      <td>0</td>\n",
       "      <td>0</td>\n",
       "      <td>41</td>\n",
       "      <td>0</td>\n",
       "      <td>0</td>\n",
       "      <td>3220</td>\n",
       "      <td>...</td>\n",
       "      <td>25</td>\n",
       "      <td>26</td>\n",
       "      <td>29</td>\n",
       "      <td>69</td>\n",
       "      <td>35</td>\n",
       "      <td>14</td>\n",
       "      <td>61</td>\n",
       "      <td>Census Tract 304</td>\n",
       "      <td>Adams County</td>\n",
       "      <td>2010</td>\n",
       "    </tr>\n",
       "    <tr>\n",
       "      <th>4</th>\n",
       "      <td>18001030500</td>\n",
       "      <td>6061</td>\n",
       "      <td>6052</td>\n",
       "      <td>0</td>\n",
       "      <td>0</td>\n",
       "      <td>3</td>\n",
       "      <td>8</td>\n",
       "      <td>0</td>\n",
       "      <td>0</td>\n",
       "      <td>6053</td>\n",
       "      <td>...</td>\n",
       "      <td>83</td>\n",
       "      <td>22</td>\n",
       "      <td>16</td>\n",
       "      <td>58</td>\n",
       "      <td>82</td>\n",
       "      <td>37</td>\n",
       "      <td>23</td>\n",
       "      <td>Census Tract 305</td>\n",
       "      <td>Adams County</td>\n",
       "      <td>2010</td>\n",
       "    </tr>\n",
       "  </tbody>\n",
       "</table>\n",
       "<p>5 rows × 73 columns</p>\n",
       "</div>"
      ],
      "text/plain": [
       "         GEOID  Population_Total  Population_White  Population_Black  \\\n",
       "0  18001030100              4617              4415                49   \n",
       "1  18001030200              4972              4676                11   \n",
       "2  18001030300              5752              5454                 0   \n",
       "3  18001030400              3261              3211                 9   \n",
       "4  18001030500              6061              6052                 0   \n",
       "\n",
       "   Population_Arab  Population_Asian  Population_Hispanic  \\\n",
       "0                0                12                  177   \n",
       "1                0                 9                  453   \n",
       "2                0                 0                  559   \n",
       "3                0                 0                   41   \n",
       "4                0                 3                    8   \n",
       "\n",
       "   Population_American_Indiana_and_Alaska_Native  \\\n",
       "0                                              0   \n",
       "1                                             60   \n",
       "2                                              0   \n",
       "3                                              0   \n",
       "4                                              0   \n",
       "\n",
       "   Population_Hawaiian_and_Pacific_Islander  Population_Non_Hispanic  ...  \\\n",
       "0                                         0                     4440  ...   \n",
       "1                                         0                     4519  ...   \n",
       "2                                         0                     5193  ...   \n",
       "3                                         0                     3220  ...   \n",
       "4                                         0                     6053  ...   \n",
       "\n",
       "   Population_Female_62_64  Population_Female_65_66  Population_Female_67_69  \\\n",
       "0                       70                       46                       43   \n",
       "1                       76                       76                      144   \n",
       "2                       45                        0                       21   \n",
       "3                       25                       26                       29   \n",
       "4                       83                       22                       16   \n",
       "\n",
       "   Population_Female_70_74  Population_Female_75_79  Population_Female_80_84  \\\n",
       "0                       77                       39                       79   \n",
       "1                       47                       80                       83   \n",
       "2                      153                       92                      161   \n",
       "3                       69                       35                       14   \n",
       "4                       58                       82                       37   \n",
       "\n",
       "   Population_Female_85_plus        tract_name   county_name  year  \n",
       "0                         34  Census Tract 301  Adams County  2010  \n",
       "1                         35  Census Tract 302  Adams County  2010  \n",
       "2                        136  Census Tract 303  Adams County  2010  \n",
       "3                         61  Census Tract 304  Adams County  2010  \n",
       "4                         23  Census Tract 305  Adams County  2010  \n",
       "\n",
       "[5 rows x 73 columns]"
      ]
     },
     "execution_count": 62,
     "metadata": {},
     "output_type": "execute_result"
    }
   ],
   "source": [
    "acs_data.head()"
   ]
  },
  {
   "cell_type": "code",
   "execution_count": null,
   "id": "c3732f2e-df4f-4d0b-8043-12f2038973a4",
   "metadata": {},
   "outputs": [],
   "source": []
  },
  {
   "cell_type": "markdown",
   "id": "479050ba-3793-4af2-be75-bb9abf16f30d",
   "metadata": {},
   "source": [
    "# Insert ACS Data to SQL"
   ]
  },
  {
   "cell_type": "code",
   "execution_count": 63,
   "id": "4799317a-e041-456b-a017-ff845be2baac",
   "metadata": {},
   "outputs": [],
   "source": [
    "def execute_values(conn, df, table):\n",
    "    \"\"\"\n",
    "    Using psycopg2.extras.execute_values() to insert the dataframe\n",
    "    \"\"\"\n",
    "    # Create a list of tupples from the dataframe values\n",
    "    tuples = [tuple(x) for x in df.to_numpy()]\n",
    "    # Comma-separated dataframe columns\n",
    "    cols = ','.join(list(df.columns))\n",
    "    # SQL quert to execute\n",
    "    query  = \"INSERT INTO %s(%s) VALUES %%s\" % (table, cols)\n",
    "    cursor = conn.cursor()\n",
    "    try:\n",
    "        extras.execute_values(cursor, query, tuples)\n",
    "        conn.commit()\n",
    "    except (Exception, psycopg2.DatabaseError) as error:\n",
    "        print(\"Error: %s\" % error)\n",
    "        conn.rollback()\n",
    "        cursor.close()\n",
    "        return 1\n",
    "    print(\"execute_values() done\")\n",
    "    cursor.close()"
   ]
  },
  {
   "cell_type": "code",
   "execution_count": 64,
   "id": "13d90b26-63a2-4deb-a9fc-8d48d215610b",
   "metadata": {},
   "outputs": [
    {
     "name": "stdin",
     "output_type": "stream",
     "text": [
      " ········\n"
     ]
    },
    {
     "name": "stdout",
     "output_type": "stream",
     "text": [
      "execute_values() done\n"
     ]
    }
   ],
   "source": [
    "try:\n",
    "    conn = psycopg2.connect(\n",
    "        database = \"indydata_testing\", \n",
    "        user = \"vinniepalazeti\", \n",
    "        password = getpass(), \n",
    "        host = \"localhost\", \n",
    "        port = \"5432\")\n",
    "except:\n",
    "    print(\"No connection to Database\") \n",
    "    \n",
    "execute_values(conn, acs_data, 'acs_population')"
   ]
  },
  {
   "cell_type": "code",
   "execution_count": null,
   "id": "a5071e64-1714-4888-a535-5d666e61b277",
   "metadata": {},
   "outputs": [],
   "source": []
  },
  {
   "cell_type": "markdown",
   "id": "8e2a8a45-7af7-4548-8fb0-7c03c36fdc60",
   "metadata": {
    "tags": []
   },
   "source": [
    "# Drop Table"
   ]
  },
  {
   "cell_type": "code",
   "execution_count": 52,
   "id": "2de084b5-7a39-45d6-a22f-d2a54d742db5",
   "metadata": {},
   "outputs": [
    {
     "name": "stdin",
     "output_type": "stream",
     "text": [
      " ········\n"
     ]
    }
   ],
   "source": [
    "table_name = 'acs_population'\n",
    "\n",
    "try:\n",
    "    conn = psycopg2.connect(\n",
    "        database = \"indydata_testing\", \n",
    "        user = \"vinniepalazeti\", \n",
    "        password = getpass(), \n",
    "        host = \"localhost\", \n",
    "        port = \"5432\")\n",
    "except:\n",
    "    print(\"No connection to Database\") \n",
    "\n",
    "cur = conn.cursor()\n",
    "\n",
    "cur.execute(f'DROP TABLE {table_name};')  \n",
    "conn.commit()\n",
    "conn.close()"
   ]
  },
  {
   "cell_type": "code",
   "execution_count": null,
   "id": "b4976ed7-a281-4871-9777-5fdf60a7339d",
   "metadata": {},
   "outputs": [],
   "source": []
  },
  {
   "cell_type": "code",
   "execution_count": null,
   "id": "2e9cc2a2-994d-43a5-b9bb-9997758cada1",
   "metadata": {},
   "outputs": [],
   "source": []
  },
  {
   "cell_type": "code",
   "execution_count": null,
   "id": "8c37fbe8-3c2c-437d-95ab-a98c0793ca17",
   "metadata": {},
   "outputs": [],
   "source": []
  },
  {
   "cell_type": "code",
   "execution_count": null,
   "id": "36a09311-7ad7-40ec-9451-d3f33d0f6f59",
   "metadata": {},
   "outputs": [],
   "source": []
  }
 ],
 "metadata": {
  "kernelspec": {
   "display_name": "Python 3 (ipykernel)",
   "language": "python",
   "name": "python3"
  },
  "language_info": {
   "codemirror_mode": {
    "name": "ipython",
    "version": 3
   },
   "file_extension": ".py",
   "mimetype": "text/x-python",
   "name": "python",
   "nbconvert_exporter": "python",
   "pygments_lexer": "ipython3",
   "version": "3.9.7"
  }
 },
 "nbformat": 4,
 "nbformat_minor": 5
}
